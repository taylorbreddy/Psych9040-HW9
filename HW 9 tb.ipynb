{
 "cells": [
  {
   "cell_type": "code",
   "execution_count": 4,
   "id": "c5d59dd8",
   "metadata": {},
   "outputs": [
    {
     "name": "stdout",
     "output_type": "stream",
     "text": [
      "number 1: 5\n",
      "number 2: 3.14\n",
      "number 3: 1.23\n",
      "number 4: 100\n",
      "number 5: 0.01\n",
      "The variance of [5.0, 3.14, 1.23, 100.0, 0.01] is 1528.72.\n"
     ]
    }
   ],
   "source": [
    "#coding exercise: Variance of an Array\n",
    "#write a program that asks the user to enter 5 numbers, and then prints the variance of those numbers\n",
    "def calculate_variance(numbers):\n",
    "    n = len(numbers)\n",
    "    mean = sum(numbers) / n\n",
    "    variance = sum((x - mean) ** 2 for x in numbers) / n\n",
    "    return variance\n",
    "\n",
    "numbers = []\n",
    "for i in range(1, 6):\n",
    "    num = float(input(f\"number {i}: \"))\n",
    "    numbers.append(num)\n",
    "    \n",
    "variance = calculate_variance(numbers)\n",
    "print(f\"The variance of {numbers} is {variance:.2f}.\")"
   ]
  }
 ],
 "metadata": {
  "kernelspec": {
   "display_name": "Python 3 (ipykernel)",
   "language": "python",
   "name": "python3"
  },
  "language_info": {
   "codemirror_mode": {
    "name": "ipython",
    "version": 3
   },
   "file_extension": ".py",
   "mimetype": "text/x-python",
   "name": "python",
   "nbconvert_exporter": "python",
   "pygments_lexer": "ipython3",
   "version": "3.11.5"
  }
 },
 "nbformat": 4,
 "nbformat_minor": 5
}
